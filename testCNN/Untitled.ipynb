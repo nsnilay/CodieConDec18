{
 "cells": [
  {
   "cell_type": "code",
   "execution_count": 1,
   "metadata": {},
   "outputs": [],
   "source": [
    "import pandas as pd\n"
   ]
  },
  {
   "cell_type": "code",
   "execution_count": 3,
   "metadata": {},
   "outputs": [
    {
     "name": "stdout",
     "output_type": "stream",
     "text": [
      "   Unnamed: 0  sachin copy 157  sachin copy 143  sachin copy 180  \\\n",
      "0           0        -0.119340        -0.119340        -0.119340   \n",
      "1           1         0.061009         0.061009         0.061009   \n",
      "2           2         0.022536         0.022536         0.022536   \n",
      "3           3        -0.057493        -0.057493        -0.057493   \n",
      "4           4        -0.126041        -0.126041        -0.126041   \n",
      "\n",
      "   sachin copy 21  sachin copy 35   rohit_0  sachin copy 34  sachin copy 20  \\\n",
      "0       -0.119340       -0.119340 -0.113573       -0.119340       -0.119340   \n",
      "1        0.061009        0.061009  0.035611        0.061009        0.061009   \n",
      "2        0.022536        0.022536  0.055030        0.022536        0.022536   \n",
      "3       -0.057493       -0.057493 -0.041304       -0.057493       -0.057493   \n",
      "4       -0.126041       -0.126041  0.011725       -0.126041       -0.126041   \n",
      "\n",
      "   sachin copy 142       ...         sachin copy 159  nishal_kv  \\\n",
      "0        -0.119340       ...               -0.119340  -0.149397   \n",
      "1         0.061009       ...                0.061009   0.039261   \n",
      "2         0.022536       ...                0.022536   0.051815   \n",
      "3        -0.057493       ...               -0.057493   0.029766   \n",
      "4        -0.126041       ...               -0.126041  -0.003479   \n",
      "\n",
      "   sachin copy 173  sachin copy 167  sachin copy 11  sachin copy 39  \\\n",
      "0        -0.119340        -0.119340       -0.119340       -0.119340   \n",
      "1         0.061009         0.061009        0.061009        0.061009   \n",
      "2         0.022536         0.022536        0.022536        0.022536   \n",
      "3        -0.057493        -0.057493       -0.057493       -0.057493   \n",
      "4        -0.126041        -0.126041       -0.126041       -0.126041   \n",
      "\n",
      "   sachin copy 38  sachin copy 10  sachin copy 166  sachin copy 172  \n",
      "0       -0.119340       -0.119340        -0.119340        -0.119340  \n",
      "1        0.061009        0.061009         0.061009         0.061009  \n",
      "2        0.022536        0.022536         0.022536         0.022536  \n",
      "3       -0.057493       -0.057493        -0.057493        -0.057493  \n",
      "4       -0.126041       -0.126041        -0.126041        -0.126041  \n",
      "\n",
      "[5 rows x 193 columns]\n"
     ]
    }
   ],
   "source": [
    "df1 = pd.read_csv('my_att.csv')\n",
    "print(df1.head(5))\n"
   ]
  },
  {
   "cell_type": "code",
   "execution_count": 10,
   "metadata": {},
   "outputs": [
    {
     "data": {
      "text/html": [
       "<div>\n",
       "<style scoped>\n",
       "    .dataframe tbody tr th:only-of-type {\n",
       "        vertical-align: middle;\n",
       "    }\n",
       "\n",
       "    .dataframe tbody tr th {\n",
       "        vertical-align: top;\n",
       "    }\n",
       "\n",
       "    .dataframe thead th {\n",
       "        text-align: right;\n",
       "    }\n",
       "</style>\n",
       "<table border=\"1\" class=\"dataframe\">\n",
       "  <thead>\n",
       "    <tr style=\"text-align: right;\">\n",
       "      <th></th>\n",
       "      <th>Unnamed: 0</th>\n",
       "      <th>sachin copy 157</th>\n",
       "      <th>sachin copy 143</th>\n",
       "      <th>sachin copy 180</th>\n",
       "      <th>sachin copy 21</th>\n",
       "      <th>sachin copy 35</th>\n",
       "      <th>rohit_0</th>\n",
       "      <th>sachin copy 34</th>\n",
       "      <th>sachin copy 20</th>\n",
       "      <th>sachin copy 142</th>\n",
       "      <th>...</th>\n",
       "      <th>sachin copy 159</th>\n",
       "      <th>nishal_kv</th>\n",
       "      <th>sachin copy 173</th>\n",
       "      <th>sachin copy 167</th>\n",
       "      <th>sachin copy 11</th>\n",
       "      <th>sachin copy 39</th>\n",
       "      <th>sachin copy 38</th>\n",
       "      <th>sachin copy 10</th>\n",
       "      <th>sachin copy 166</th>\n",
       "      <th>sachin copy 172</th>\n",
       "    </tr>\n",
       "  </thead>\n",
       "  <tbody>\n",
       "    <tr>\n",
       "      <th>0</th>\n",
       "      <td>0</td>\n",
       "      <td>-0.11934</td>\n",
       "      <td>-0.11934</td>\n",
       "      <td>-0.11934</td>\n",
       "      <td>-0.11934</td>\n",
       "      <td>-0.11934</td>\n",
       "      <td>-0.113573</td>\n",
       "      <td>-0.11934</td>\n",
       "      <td>-0.11934</td>\n",
       "      <td>-0.11934</td>\n",
       "      <td>...</td>\n",
       "      <td>-0.11934</td>\n",
       "      <td>-0.149397</td>\n",
       "      <td>-0.11934</td>\n",
       "      <td>-0.11934</td>\n",
       "      <td>-0.11934</td>\n",
       "      <td>-0.11934</td>\n",
       "      <td>-0.11934</td>\n",
       "      <td>-0.11934</td>\n",
       "      <td>-0.11934</td>\n",
       "      <td>-0.11934</td>\n",
       "    </tr>\n",
       "  </tbody>\n",
       "</table>\n",
       "<p>1 rows × 193 columns</p>\n",
       "</div>"
      ],
      "text/plain": [
       "   Unnamed: 0  sachin copy 157  sachin copy 143  sachin copy 180  \\\n",
       "0           0         -0.11934         -0.11934         -0.11934   \n",
       "\n",
       "   sachin copy 21  sachin copy 35   rohit_0  sachin copy 34  sachin copy 20  \\\n",
       "0        -0.11934        -0.11934 -0.113573        -0.11934        -0.11934   \n",
       "\n",
       "   sachin copy 142       ...         sachin copy 159  nishal_kv  \\\n",
       "0         -0.11934       ...                -0.11934  -0.149397   \n",
       "\n",
       "   sachin copy 173  sachin copy 167  sachin copy 11  sachin copy 39  \\\n",
       "0         -0.11934         -0.11934        -0.11934        -0.11934   \n",
       "\n",
       "   sachin copy 38  sachin copy 10  sachin copy 166  sachin copy 172  \n",
       "0        -0.11934        -0.11934         -0.11934         -0.11934  \n",
       "\n",
       "[1 rows x 193 columns]"
      ]
     },
     "execution_count": 10,
     "metadata": {},
     "output_type": "execute_result"
    }
   ],
   "source": [
    "df1.drop(df1.index[1:192], inplace=True)\n",
    "df1.head()"
   ]
  },
  {
   "cell_type": "code",
   "execution_count": 17,
   "metadata": {},
   "outputs": [
    {
     "data": {
      "text/html": [
       "<div>\n",
       "<style scoped>\n",
       "    .dataframe tbody tr th:only-of-type {\n",
       "        vertical-align: middle;\n",
       "    }\n",
       "\n",
       "    .dataframe tbody tr th {\n",
       "        vertical-align: top;\n",
       "    }\n",
       "\n",
       "    .dataframe thead th {\n",
       "        text-align: right;\n",
       "    }\n",
       "</style>\n",
       "<table border=\"1\" class=\"dataframe\">\n",
       "  <thead>\n",
       "    <tr style=\"text-align: right;\">\n",
       "      <th></th>\n",
       "      <th>Unnamed: 0</th>\n",
       "      <th>sachin copy 157</th>\n",
       "      <th>sachin copy 143</th>\n",
       "      <th>sachin copy 180</th>\n",
       "      <th>sachin copy 21</th>\n",
       "      <th>sachin copy 35</th>\n",
       "      <th>rohit_0</th>\n",
       "      <th>sachin copy 34</th>\n",
       "      <th>sachin copy 20</th>\n",
       "      <th>sachin copy 142</th>\n",
       "      <th>...</th>\n",
       "      <th>sachin copy 159</th>\n",
       "      <th>nishal_kv</th>\n",
       "      <th>sachin copy 173</th>\n",
       "      <th>sachin copy 167</th>\n",
       "      <th>sachin copy 11</th>\n",
       "      <th>sachin copy 39</th>\n",
       "      <th>sachin copy 38</th>\n",
       "      <th>sachin copy 10</th>\n",
       "      <th>sachin copy 166</th>\n",
       "      <th>sachin copy 172</th>\n",
       "    </tr>\n",
       "  </thead>\n",
       "  <tbody>\n",
       "    <tr>\n",
       "      <th>0</th>\n",
       "      <td>0</td>\n",
       "      <td>0</td>\n",
       "      <td>0</td>\n",
       "      <td>0</td>\n",
       "      <td>0</td>\n",
       "      <td>0</td>\n",
       "      <td>0</td>\n",
       "      <td>0</td>\n",
       "      <td>0</td>\n",
       "      <td>0</td>\n",
       "      <td>...</td>\n",
       "      <td>0</td>\n",
       "      <td>0</td>\n",
       "      <td>0</td>\n",
       "      <td>0</td>\n",
       "      <td>0</td>\n",
       "      <td>0</td>\n",
       "      <td>0</td>\n",
       "      <td>0</td>\n",
       "      <td>0</td>\n",
       "      <td>0</td>\n",
       "    </tr>\n",
       "  </tbody>\n",
       "</table>\n",
       "<p>1 rows × 193 columns</p>\n",
       "</div>"
      ],
      "text/plain": [
       "   Unnamed: 0  sachin copy 157  sachin copy 143  sachin copy 180  \\\n",
       "0           0                0                0                0   \n",
       "\n",
       "   sachin copy 21  sachin copy 35  rohit_0  sachin copy 34  sachin copy 20  \\\n",
       "0               0               0        0               0               0   \n",
       "\n",
       "   sachin copy 142       ...         sachin copy 159  nishal_kv  \\\n",
       "0                0       ...                       0          0   \n",
       "\n",
       "   sachin copy 173  sachin copy 167  sachin copy 11  sachin copy 39  \\\n",
       "0                0                0               0               0   \n",
       "\n",
       "   sachin copy 38  sachin copy 10  sachin copy 166  sachin copy 172  \n",
       "0               0               0                0                0  \n",
       "\n",
       "[1 rows x 193 columns]"
      ]
     },
     "execution_count": 17,
     "metadata": {},
     "output_type": "execute_result"
    }
   ],
   "source": [
    "for column in df1.columns:\n",
    "    df1[column] = 0\n",
    "df1.head()\n"
   ]
  },
  {
   "cell_type": "code",
   "execution_count": 19,
   "metadata": {},
   "outputs": [],
   "source": [
    "df1.to_csv('my_attendance.csv')"
   ]
  },
  {
   "cell_type": "code",
   "execution_count": 20,
   "metadata": {},
   "outputs": [
    {
     "data": {
      "text/html": [
       "<div>\n",
       "<style scoped>\n",
       "    .dataframe tbody tr th:only-of-type {\n",
       "        vertical-align: middle;\n",
       "    }\n",
       "\n",
       "    .dataframe tbody tr th {\n",
       "        vertical-align: top;\n",
       "    }\n",
       "\n",
       "    .dataframe thead th {\n",
       "        text-align: right;\n",
       "    }\n",
       "</style>\n",
       "<table border=\"1\" class=\"dataframe\">\n",
       "  <thead>\n",
       "    <tr style=\"text-align: right;\">\n",
       "      <th></th>\n",
       "      <th>Unnamed: 0</th>\n",
       "      <th>Unnamed: 0.1</th>\n",
       "      <th>sachin copy 157</th>\n",
       "      <th>sachin copy 143</th>\n",
       "      <th>sachin copy 180</th>\n",
       "      <th>sachin copy 21</th>\n",
       "      <th>sachin copy 35</th>\n",
       "      <th>rohit_0</th>\n",
       "      <th>sachin copy 34</th>\n",
       "      <th>sachin copy 20</th>\n",
       "      <th>...</th>\n",
       "      <th>sachin copy 159</th>\n",
       "      <th>nishal_kv</th>\n",
       "      <th>sachin copy 173</th>\n",
       "      <th>sachin copy 167</th>\n",
       "      <th>sachin copy 11</th>\n",
       "      <th>sachin copy 39</th>\n",
       "      <th>sachin copy 38</th>\n",
       "      <th>sachin copy 10</th>\n",
       "      <th>sachin copy 166</th>\n",
       "      <th>sachin copy 172</th>\n",
       "    </tr>\n",
       "  </thead>\n",
       "  <tbody>\n",
       "    <tr>\n",
       "      <th>0</th>\n",
       "      <td>0</td>\n",
       "      <td>0</td>\n",
       "      <td>0</td>\n",
       "      <td>0</td>\n",
       "      <td>0</td>\n",
       "      <td>0</td>\n",
       "      <td>0</td>\n",
       "      <td>0</td>\n",
       "      <td>0</td>\n",
       "      <td>0</td>\n",
       "      <td>...</td>\n",
       "      <td>0</td>\n",
       "      <td>0</td>\n",
       "      <td>0</td>\n",
       "      <td>0</td>\n",
       "      <td>0</td>\n",
       "      <td>0</td>\n",
       "      <td>0</td>\n",
       "      <td>0</td>\n",
       "      <td>0</td>\n",
       "      <td>0</td>\n",
       "    </tr>\n",
       "  </tbody>\n",
       "</table>\n",
       "<p>1 rows × 194 columns</p>\n",
       "</div>"
      ],
      "text/plain": [
       "   Unnamed: 0  Unnamed: 0.1  sachin copy 157  sachin copy 143  \\\n",
       "0           0             0                0                0   \n",
       "\n",
       "   sachin copy 180  sachin copy 21  sachin copy 35  rohit_0  sachin copy 34  \\\n",
       "0                0               0               0        0               0   \n",
       "\n",
       "   sachin copy 20       ...         sachin copy 159  nishal_kv  \\\n",
       "0               0       ...                       0          0   \n",
       "\n",
       "   sachin copy 173  sachin copy 167  sachin copy 11  sachin copy 39  \\\n",
       "0                0                0               0               0   \n",
       "\n",
       "   sachin copy 38  sachin copy 10  sachin copy 166  sachin copy 172  \n",
       "0               0               0                0                0  \n",
       "\n",
       "[1 rows x 194 columns]"
      ]
     },
     "execution_count": 20,
     "metadata": {},
     "output_type": "execute_result"
    }
   ],
   "source": [
    "df2 = pd.read_csv('my_attendance.csv')\n",
    "df2.head()"
   ]
  },
  {
   "cell_type": "code",
   "execution_count": 21,
   "metadata": {},
   "outputs": [
    {
     "name": "stdout",
     "output_type": "stream",
     "text": [
      "   Unnamed: 0  Unnamed: 0.1  Unnamed: 0.1.1  sachin copy 157  sachin copy 143  \\\n",
      "0           0             0               0                0                0   \n",
      "\n",
      "   sachin copy 180  sachin copy 21  sachin copy 35  rohit_0  shalinee  \\\n",
      "0                0               0               0        0      True   \n",
      "\n",
      "        ...         sachin copy 159  nishal_kv  sachin copy 173  \\\n",
      "0       ...                       0          0                0   \n",
      "\n",
      "   sachin copy 167  sachin copy 11  sachin copy 39  sachin copy 38  \\\n",
      "0                0               0               0               0   \n",
      "\n",
      "   sachin copy 10  sachin copy 166  sachin copy 172  \n",
      "0               0                0                0  \n",
      "\n",
      "[1 rows x 203 columns]\n"
     ]
    }
   ],
   "source": [
    "\n",
    "df1 = pd.read_csv('my_marked_attendance.csv')\n",
    "print(df1.head(5))"
   ]
  },
  {
   "cell_type": "code",
   "execution_count": 22,
   "metadata": {},
   "outputs": [],
   "source": [
    "name_and_timestamp={}"
   ]
  },
  {
   "cell_type": "code",
   "execution_count": 27,
   "metadata": {},
   "outputs": [
    {
     "data": {
      "text/plain": [
       "{'nilay': 1545315034}"
      ]
     },
     "execution_count": 27,
     "metadata": {},
     "output_type": "execute_result"
    }
   ],
   "source": [
    "import time\n",
    "import calendar\n",
    "ts = calendar.timegm(time.gmtime())\n",
    "\n",
    "name_and_timestamp['nilay'] = ts\n",
    "name_and_timestamp"
   ]
  },
  {
   "cell_type": "code",
   "execution_count": 31,
   "metadata": {},
   "outputs": [],
   "source": [
    "if name,val in name_and_timestamp:\n",
    "    print(\"hi\")"
   ]
  },
  {
   "cell_type": "code",
   "execution_count": null,
   "metadata": {},
   "outputs": [],
   "source": [
    "if name not in name_and_timestamp:\n",
    "    name_and_timestamp[name] = calendar.timegm(time.gmtime())\n",
    "\n",
    "elif ((calendar.timegm(time.gmtime() - name_and_timestamp[name]) > 3)):\n",
    "    name_and_timestamp[name] = calendar.timegm(time.gmtime())\n",
    "    print(name, \"Present Marked\")"
   ]
  }
 ],
 "metadata": {
  "kernelspec": {
   "display_name": "Python [conda env:codieCon]",
   "language": "python",
   "name": "conda-env-codieCon-py"
  },
  "language_info": {
   "codemirror_mode": {
    "name": "ipython",
    "version": 3
   },
   "file_extension": ".py",
   "mimetype": "text/x-python",
   "name": "python",
   "nbconvert_exporter": "python",
   "pygments_lexer": "ipython3",
   "version": "3.7.1"
  }
 },
 "nbformat": 4,
 "nbformat_minor": 2
}
